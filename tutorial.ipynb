{
 "cells": [
  {
   "cell_type": "code",
   "execution_count": 1,
   "metadata": {},
   "outputs": [],
   "source": [
    "from pathlib import Path\n",
    "import logging\n",
    "from datetime import datetime\n",
    "\n",
    "from paperqa.agents.main import agent_query\n",
    "from paperqa.settings import Settings, AgentSettings, IndexSettings, AnswerSettings, ParsingSettings, PromptSettings\n",
    "\n",
    "from src.build_search_index import manifest_from_bibtex, build_search_index\n",
    "from src.query_answer_index import query_answer_index\n",
    "from src.utils import pretty_print_text\n",
    "\n",
    "# configure the logging\n",
    "logging.basicConfig(\n",
    "    level=logging.WARNING,\n",
    "    format=\"%(asctime)s - %(levelname)s - %(message)s\"\n",
    ")\n",
    "# Generate a timestamp for the log file name\n",
    "timestamp = datetime.now().strftime(\"%Y-%m-%d_%H-%M-%S\")\n",
    "logging_dir = Path(\".\") / \"logs\"\n",
    "logging_dir.mkdir(exist_ok=True)\n",
    "file_handler = logging.FileHandler(str(logging_dir / f\"log_{timestamp}.log\"))  # log file name\n",
    "file_handler.setLevel(logging.INFO)  # desired log level for the file\n",
    "formatter = logging.Formatter(\"%(asctime)s - %(levelname)s - %(message)s\")\n",
    "file_handler.setFormatter(formatter)\n",
    "logging.getLogger().addHandler(file_handler)\n",
    "\n",
    "# configure paths\n",
    "export_directory_name = \"TEST_EXPORT\"\n",
    "project_dir = Path(\"/\") / \"Users\" / \"pschafer\" / \"Projects\" / \"MS_expert\"\n",
    "paper_directory = project_dir / export_directory_name\n",
    "index_directory = project_dir / f\"{export_directory_name}_index\"\n",
    "bibtex_file = paper_directory / f\"{export_directory_name}.bib\"\n",
    "manifest_file = project_dir / f\"{export_directory_name}_manifest.csv\"\n",
    "index_name = f\"pqa_index_{export_directory_name}\"\n",
    "\n",
    "# create manifest file from bibtex\n",
    "manifest_from_bibtex(bibtex_file=bibtex_file, \n",
    "                     paper_directory=paper_directory, \n",
    "                     manifest_file=manifest_file)\n",
    "\n",
    "# set paperQA settings\n",
    "index_settings = IndexSettings(\n",
    "    name = index_name,\n",
    "    paper_directory = paper_directory,\n",
    "    manifest_file = manifest_file,\n",
    "    index_directory = index_directory,\n",
    "    use_absolute_paper_directory = False,\n",
    "    recurse_subdirectories = True,\n",
    "    concurrency = 1, # \"number of concurrent filesystem reads for indexing (probably not important anymore since I avoid calling S2)\"\n",
    ")\n",
    "\n",
    "agent_settings = AgentSettings(\n",
    "    agent_llm = \"gpt-4o-mini\", # smaller than default (bc cheaper)\n",
    "    index = index_settings,\n",
    "    index_concurrency = index_settings.concurrency\n",
    ")\n",
    "\n",
    "answer_settings = AnswerSettings(\n",
    "    evidence_k = 10, # number of evidence text chunks to retrieve (default=10)\n",
    "    evidence_summary_length = \"about 100 words\", # length of evidence summary (default=\"about 100 words\")\n",
    "    answer_max_sources = 5, # max number of sources to use for answering (default=5)\n",
    "    answer_length = \"about 200 words, but can be longer\", # length of final answer (default=\"about 200 words, but can be longer\")\n",
    ")\n",
    "\n",
    "parse_settings = ParsingSettings()\n",
    "\n",
    "prompt_settings = PromptSettings()\n",
    "\n",
    "settings = Settings(\n",
    "    agent = agent_settings, \n",
    "    answer = answer_settings,\n",
    "    parsing = parse_settings,\n",
    "    prompts = prompt_settings,\n",
    "    llm=\"gpt-4o-mini\", # smaller than default (bc cheaper)\n",
    "    summary_llm=\"gpt-4o-mini\", # smaller than default (bc cheaper)\n",
    "    embedding=\"text-embedding-3-small\", # default\n",
    "    temperature = 0.0, # default\n",
    "    texts_index_mmr_lambda = 1.0, # Lambda MMR (default)\n",
    "    index_absolute_directory = index_settings.use_absolute_paper_directory,\n",
    "    index_directory = index_settings.index_directory,\n",
    "    index_recursively = index_settings.recurse_subdirectories,\n",
    "    manifest_file = index_settings.manifest_file,\n",
    "    paper_directory = index_settings.paper_directory,\n",
    "    verbosity = 0, # (0-3), where 3 is all LLM/Embedding calls are logged\n",
    ")\n",
    "\n",
    "# Make sure that I am using the defautl arguments where it matters\n",
    "def print_non_default_settings(settings_defined, settings_classs, settings_name):\n",
    "    print(f\"------\\n{settings_name}\")\n",
    "    for key, value in settings_defined.__dict__.items():\n",
    "        default_value = getattr(settings_classs(), key, None)\n",
    "        if value != default_value:\n",
    "            print(f\"selected: {key}: {value}\")\n",
    "            print(f\"-> default: {key}: {default_value}\")\n",
    "\n",
    "# Print non-default settings for each object\n",
    "#print_non_default_settings(index_settings, IndexSettings, \"index_settings\")\n",
    "#print_non_default_settings(agent_settings, AgentSettings, \"agent_settings\")\n",
    "#print_non_default_settings(answer_settings, AnswerSettings, \"answer_settings\")\n",
    "#print_non_default_settings(parse_settings, ParsingSettings, \"parse_settings\")\n",
    "#print_non_default_settings(prompt_settings, PromptSettings, \"prompt_settings\")\n",
    "#print_non_default_settings(settings, Settings, \"settings\")"
   ]
  },
  {
   "cell_type": "code",
   "execution_count": 2,
   "metadata": {},
   "outputs": [
    {
     "data": {
      "text/plain": [
       "PosixPath('/Users/pschafer/Projects/MS_expert/TEST_EXPORT_manifest.csv')"
      ]
     },
     "execution_count": 2,
     "metadata": {},
     "output_type": "execute_result"
    }
   ],
   "source": [
    "manifest_file"
   ]
  },
  {
   "cell_type": "code",
   "execution_count": null,
   "metadata": {},
   "outputs": [],
   "source": []
  },
  {
   "cell_type": "code",
   "execution_count": null,
   "metadata": {},
   "outputs": [],
   "source": []
  },
  {
   "cell_type": "markdown",
   "metadata": {},
   "source": [
    "# Build Search Index"
   ]
  },
  {
   "cell_type": "code",
   "execution_count": 3,
   "metadata": {},
   "outputs": [
    {
     "name": "stdout",
     "output_type": "stream",
     "text": [
      "Index Name: pqa_index_TEST_EXPORT\n",
      "Number of Indexed Files: 10\n"
     ]
    }
   ],
   "source": [
    "search_index = await build_search_index(settings=settings, bibtex_file=bibtex_file)\n",
    "assert search_index.index_name == settings.agent.index.name\n",
    "print(f\"Index Name: {search_index.index_name}\")\n",
    "print(f\"Number of Indexed Files: {len((await search_index.index_files).keys())}\")"
   ]
  },
  {
   "cell_type": "markdown",
   "metadata": {},
   "source": [
    "# Perform Queries"
   ]
  },
  {
   "cell_type": "code",
   "execution_count": 4,
   "metadata": {},
   "outputs": [
    {
     "name": "stdout",
     "output_type": "stream",
     "text": [
      "Question: What do you know about the perivascular niche/space in multiple\n",
      "sclerosis\n",
      "\n",
      "\n",
      "The perivascular niche in multiple sclerosis (MS) is a critical area for\n",
      "understanding the disease's pathology, particularly regarding immune cell\n",
      "infiltration and its consequences. This niche is where immune cells, including\n",
      "CD4+ and CD8+ T cells, B cells, and myeloid cells, infiltrate the central\n",
      "nervous system (CNS) during relapses, primarily around post-capillary venules\n",
      "of the blood-brain barrier (BBB) (Filippi2021 pages 8-9). The migration of\n",
      "these immune cells across the BBB is essential for CNS inflammation, with\n",
      "cytokines such as IL-1beta facilitating their access (Filippi2021 pages 24-24).\n",
      "\n",
      "\n",
      "The perivascular space is also implicated in the injury of oligodendrocytes,\n",
      "leading to demyelination and neuro-axonal damage through both direct cell\n",
      "contact and the secretion of soluble factors (Filippi2021 pages 8-9).\n",
      "Furthermore, it plays a role in remyelination processes, as it is a critical\n",
      "area for oligodendrocyte precursor cell (OPC) migration and differentiation\n",
      "(Hagemeier2012 pages 2-3). However, chronic lesions often exhibit limited\n",
      "remyelination, influenced by factors such as anatomical localization and lesion\n",
      "size (Hagemeier2012 pages 2-3). Overall, the perivascular niche is integral to\n",
      "the inflammatory and neurodegenerative processes characteristic of MS\n",
      "(Filippi2021 pages 3-4, Filippi2021 pages 6-7).\n",
      "\n",
      "\n",
      "References\n",
      "\n",
      "\n",
      "1. (Filippi2021 pages 8-9): Filippi, Massimo, et al. \"Multiple Sclerosis.\"\n",
      "*Nature Reviews Disease Primers*, vol. 7, no. 1, 2021, article 1. Accessed\n",
      "2024.\n",
      "\n",
      "\n",
      "2. (Filippi2021 pages 24-24): Filippi, Massimo, et al. \"Multiple Sclerosis.\"\n",
      "*Nature Reviews Disease Primers*, vol. 7, no. 1, 2021, article 1. Accessed\n",
      "2024.\n",
      "\n",
      "\n",
      "3. (Filippi2021 pages 3-4): Filippi, Massimo, et al. \"Multiple Sclerosis.\"\n",
      "*Nature Reviews Disease Primers*, vol. 7, no. 1, 2021, article 1. Accessed\n",
      "2024.\n",
      "\n",
      "\n",
      "4. (Filippi2021 pages 6-7): Filippi, Massimo, et al. \"Multiple Sclerosis.\"\n",
      "*Nature Reviews Disease Primers*, vol. 7, no. 1, 2021, article 1. Accessed\n",
      "2024.\n",
      "\n",
      "\n",
      "5. (Hagemeier2012 pages 2-3): Hagemeier, Karin, Wolfgang Brück, and Tanja\n",
      "Kuhlmann. \"Multiple Sclerosis - Remyelination Failure as a Cause of Disease\n",
      "Progression.\" *Histology and Histopathology*, vol. 27, no. 2, 2012, pp.\n",
      "277-287. *Histol Histopathol*, doi:10.14670/HH-27.277. Accessed 2024.\n",
      "\n",
      "\n"
     ]
    }
   ],
   "source": [
    "answer_response = await agent_query(\n",
    "    query=\"What do you know about the perivascular niche/space in multiple sclerosis\", \n",
    "    settings=settings, rebuild_index=False\n",
    ")\n",
    "pretty_print_text(answer_response.session.formatted_answer)"
   ]
  },
  {
   "cell_type": "markdown",
   "metadata": {},
   "source": [
    "# Query Previous Question & Answers"
   ]
  },
  {
   "cell_type": "code",
   "execution_count": 5,
   "metadata": {},
   "outputs": [
    {
     "name": "stdout",
     "output_type": "stream",
     "text": [
      "Number of Indexed Answers: 10\n",
      "Number of Answers Matching Query: 10\n"
     ]
    }
   ],
   "source": [
    "query_answer_index_results = await query_answer_index(settings=settings, query=\"role of perivascular niche in MS\")"
   ]
  },
  {
   "cell_type": "markdown",
   "metadata": {},
   "source": [
    "# Appendix"
   ]
  },
  {
   "cell_type": "code",
   "execution_count": null,
   "metadata": {},
   "outputs": [],
   "source": []
  },
  {
   "cell_type": "code",
   "execution_count": null,
   "metadata": {},
   "outputs": [],
   "source": []
  },
  {
   "cell_type": "code",
   "execution_count": null,
   "metadata": {},
   "outputs": [],
   "source": []
  }
 ],
 "metadata": {
  "kernelspec": {
   "display_name": "paperqa",
   "language": "python",
   "name": "python3"
  },
  "language_info": {
   "codemirror_mode": {
    "name": "ipython",
    "version": 3
   },
   "file_extension": ".py",
   "mimetype": "text/x-python",
   "name": "python",
   "nbconvert_exporter": "python",
   "pygments_lexer": "ipython3",
   "version": "3.11.0"
  }
 },
 "nbformat": 4,
 "nbformat_minor": 2
}
