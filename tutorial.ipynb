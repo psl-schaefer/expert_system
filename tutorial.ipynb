{
 "cells": [
  {
   "cell_type": "code",
   "execution_count": 1,
   "metadata": {},
   "outputs": [
    {
     "name": "stderr",
     "output_type": "stream",
     "text": [
      "/Users/pschafer/miniforge3/envs/paperqa-env/lib/python3.11/site-packages/pydantic/_internal/_config.py:345: UserWarning: Valid config keys have changed in V2:\n",
      "* 'fields' has been removed\n",
      "  warnings.warn(message, UserWarning)\n"
     ]
    },
    {
     "name": "stdout",
     "output_type": "stream",
     "text": [
      "------\n",
      "index_settings\n",
      "selected: name: pqa_index_TEST_EXPORT\n",
      "-> default: name: None\n",
      "selected: paper_directory: data/TEST_EXPORT\n",
      "-> default: paper_directory: /Users/pschafer/Projects/MS_expert\n",
      "selected: manifest_file: data/TEST_EXPORT_manifest.csv\n",
      "-> default: manifest_file: None\n",
      "selected: index_directory: data/TEST_EXPORT_index\n",
      "-> default: index_directory: /Users/pschafer/.pqa/indexes\n",
      "selected: concurrency: 1\n",
      "-> default: concurrency: 5\n",
      "------\n",
      "agent_settings\n",
      "selected: agent_llm: deepseek/deepseek-chat\n",
      "-> default: agent_llm: gpt-4o-2024-11-20\n",
      "selected: index_concurrency: 1\n",
      "-> default: index_concurrency: 5\n",
      "selected: index: name='pqa_index_TEST_EXPORT' paper_directory=PosixPath('data/TEST_EXPORT') manifest_file=PosixPath('data/TEST_EXPORT_manifest.csv') index_directory=PosixPath('data/TEST_EXPORT_index') use_absolute_paper_directory=False recurse_subdirectories=True concurrency=1 sync_with_paper_directory=True\n",
      "-> default: index: name=None paper_directory=PosixPath('/Users/pschafer/Projects/MS_expert') manifest_file=None index_directory=PosixPath('/Users/pschafer/.pqa/indexes') use_absolute_paper_directory=False recurse_subdirectories=True concurrency=5 sync_with_paper_directory=True\n",
      "------\n",
      "answer_settings\n",
      "------\n",
      "parse_settings\n",
      "------\n",
      "prompt_settings\n",
      "------\n",
      "settings\n",
      "selected: llm: deepseek/deepseek-chat\n",
      "-> default: llm: gpt-4o-2024-11-20\n",
      "selected: summary_llm: deepseek/deepseek-chat\n",
      "-> default: summary_llm: gpt-4o-2024-11-20\n",
      "selected: index_directory: data/TEST_EXPORT_index\n",
      "-> default: index_directory: /Users/pschafer/.pqa/indexes\n",
      "selected: manifest_file: data/TEST_EXPORT_manifest.csv\n",
      "-> default: manifest_file: None\n",
      "selected: paper_directory: data/TEST_EXPORT\n",
      "-> default: paper_directory: /Users/pschafer/Projects/MS_expert\n",
      "selected: agent: agent_llm='deepseek/deepseek-chat' agent_llm_config=None agent_type='ToolSelector' agent_config=None agent_system_prompt='You are a helpful AI assistant.' agent_prompt='Use the tools to answer the question: {question}\\n\\nWhen the answer looks sufficient, you can terminate by calling the {complete_tool_name} tool. If the answer does not look sufficient, and you have already tried to answer several times with different evidence, terminate by calling the {complete_tool_name} tool. The current status of evidence/papers/cost is {status}' return_paper_metadata=False search_count=8 wipe_context_on_answer_failure=True agent_evidence_n=1 timeout=500.0 should_pre_search=False tool_names=None max_timesteps=None index_concurrency=1 index=IndexSettings(name='pqa_index_TEST_EXPORT', paper_directory=PosixPath('data/TEST_EXPORT'), manifest_file=PosixPath('data/TEST_EXPORT_manifest.csv'), index_directory=PosixPath('data/TEST_EXPORT_index'), use_absolute_paper_directory=False, recurse_subdirectories=True, concurrency=1, sync_with_paper_directory=True) callbacks={}\n",
      "-> default: agent: agent_llm='gpt-4o-2024-11-20' agent_llm_config=None agent_type='ToolSelector' agent_config=None agent_system_prompt='You are a helpful AI assistant.' agent_prompt='Use the tools to answer the question: {question}\\n\\nWhen the answer looks sufficient, you can terminate by calling the {complete_tool_name} tool. If the answer does not look sufficient, and you have already tried to answer several times with different evidence, terminate by calling the {complete_tool_name} tool. The current status of evidence/papers/cost is {status}' return_paper_metadata=False search_count=8 wipe_context_on_answer_failure=True agent_evidence_n=1 timeout=500.0 should_pre_search=False tool_names=None max_timesteps=None index_concurrency=5 index=IndexSettings(name=None, paper_directory=PosixPath('/Users/pschafer/Projects/MS_expert'), manifest_file=None, index_directory=PosixPath('/Users/pschafer/.pqa/indexes'), use_absolute_paper_directory=False, recurse_subdirectories=True, concurrency=5, sync_with_paper_directory=True) callbacks={}\n"
     ]
    }
   ],
   "source": [
    "from pathlib import Path\n",
    "import logging\n",
    "import os\n",
    "\n",
    "from paperqa.agents.main import agent_query\n",
    "from paperqa.settings import Settings, AgentSettings, IndexSettings, AnswerSettings, ParsingSettings, PromptSettings\n",
    "\n",
    "from src.build_search_index import process_bibtex_and_pdfs, create_manifest_file, build_search_index\n",
    "from src.query_answer_index import query_answer_index\n",
    "from src.utils import pretty_print_text\n",
    "\n",
    "# configure the logging\n",
    "logging.basicConfig(\n",
    "    level=logging.WARNING,\n",
    "    format=\"%(asctime)s - %(levelname)s - %(message)s\"\n",
    ")\n",
    "\n",
    "# NOTE: these are the paths that should be configured\n",
    "export_directory_name = \"TEST_EXPORT\"\n",
    "project_dir = Path(\".\")\n",
    "\n",
    "# default paths\n",
    "data_dir = project_dir / \"data\"\n",
    "data_dir.mkdir(exist_ok=True)\n",
    "paper_directory = data_dir / export_directory_name\n",
    "index_directory = data_dir / f\"{export_directory_name}_index\"\n",
    "bibtex_file = paper_directory / f\"{export_directory_name}.bib\"\n",
    "manifest_file = data_dir / f\"{export_directory_name}_manifest.csv\"\n",
    "index_name = f\"pqa_index_{export_directory_name}\"\n",
    "\n",
    "# create manifest file from bibtex\n",
    "processed_df = process_bibtex_and_pdfs(bibtex_file=bibtex_file, paper_directory=paper_directory)\n",
    "create_manifest_file(manifest_df=processed_df, manifest_file=manifest_file)\n",
    "\n",
    "# set paperQA settings\n",
    "default_lmm = \"deepseek/deepseek-chat\" # see https://docs.litellm.ai/docs/providers/deepseek\n",
    "\n",
    "index_settings = IndexSettings(\n",
    "    name = index_name,\n",
    "    paper_directory = paper_directory,\n",
    "    manifest_file = manifest_file,\n",
    "    index_directory = index_directory,\n",
    "    use_absolute_paper_directory = False,\n",
    "    recurse_subdirectories = True,\n",
    "    concurrency = 1, # \"number of concurrent filesystem reads for indexing (probably not important anymore since I avoid calling S2)\"\n",
    ")\n",
    "\n",
    "agent_settings = AgentSettings(\n",
    "    agent_llm = default_lmm, # smaller than default (bc cheaper)\n",
    "    index = index_settings,\n",
    "    index_concurrency = index_settings.concurrency\n",
    ")\n",
    "\n",
    "answer_settings = AnswerSettings(\n",
    "    evidence_k = 10, # number of evidence text chunks to retrieve (default=10)\n",
    "    evidence_summary_length = \"about 100 words\", # length of evidence summary (default=\"about 100 words\")\n",
    "    answer_max_sources = 5, # max number of sources to use for answering (default=5)\n",
    "    answer_length = \"about 200 words, but can be longer\", # length of final answer (default=\"about 200 words, but can be longer\")\n",
    ")\n",
    "\n",
    "parse_settings = ParsingSettings()\n",
    "\n",
    "prompt_settings = PromptSettings()\n",
    "\n",
    "settings = Settings(\n",
    "    agent = agent_settings, \n",
    "    answer = answer_settings,\n",
    "    parsing = parse_settings,\n",
    "    prompts = prompt_settings,\n",
    "    llm=default_lmm, # smaller than default (bc cheaper)\n",
    "    summary_llm=default_lmm, # smaller than default (bc cheaper)\n",
    "    embedding=\"text-embedding-3-small\", # default\n",
    "    temperature = 0.0, # default\n",
    "    texts_index_mmr_lambda = 1.0, # Lambda MMR (default)\n",
    "    index_absolute_directory = index_settings.use_absolute_paper_directory,\n",
    "    index_directory = index_settings.index_directory,\n",
    "    index_recursively = index_settings.recurse_subdirectories,\n",
    "    manifest_file = index_settings.manifest_file,\n",
    "    paper_directory = index_settings.paper_directory,\n",
    "    verbosity = 0, # (0-3), where 3 is all LLM/Embedding calls are logged\n",
    ")\n",
    "\n",
    "# Make sure that I am using the default arguments where it matters\n",
    "#def print_non_default_settings(settings_defined, settings_classs, settings_name):\n",
    "#    print(f\"------\\n{settings_name}\")\n",
    "#    for key, value in settings_defined.__dict__.items():\n",
    "#        default_value = getattr(settings_classs(), key, None)\n",
    "#        if value != default_value:\n",
    "#            print(f\"selected: {key}: {value}\")\n",
    "#            print(f\"-> default: {key}: {default_value}\")\n",
    "\n",
    "# Print non-default settings for each object\n",
    "#print_non_default_settings(index_settings, IndexSettings, \"index_settings\")\n",
    "#print_non_default_settings(agent_settings, AgentSettings, \"agent_settings\")\n",
    "#print_non_default_settings(answer_settings, AnswerSettings, \"answer_settings\")\n",
    "#print_non_default_settings(parse_settings, ParsingSettings, \"parse_settings\")\n",
    "#print_non_default_settings(prompt_settings, PromptSettings, \"prompt_settings\")\n",
    "#print_non_default_settings(settings, Settings, \"settings\")\n",
    "\n",
    "# check API_KEYS are present\n",
    "API_KEYS = [\"DEEPSEEK_API_KEY\", \"OPENAI_API_KEY\"]\n",
    "for api_key in API_KEYS:\n",
    "    if (key := os.getenv(api_key)):\n",
    "        print(f\"{api_key} found\")"
   ]
  },
  {
   "cell_type": "markdown",
   "metadata": {},
   "source": [
    "# Build Search Index"
   ]
  },
  {
   "cell_type": "code",
   "execution_count": 3,
   "metadata": {},
   "outputs": [
    {
     "name": "stdout",
     "output_type": "stream",
     "text": [
      "Index Name: pqa_index_TEST_EXPORT\n",
      "Number of Indexed Files: 10\n"
     ]
    }
   ],
   "source": [
    "search_index = await build_search_index(settings=settings, bibtex_file=bibtex_file, manifest_file=manifest_file)\n",
    "assert search_index.index_name == settings.agent.index.name\n",
    "print(f\"Index Name: {search_index.index_name}\")\n",
    "print(f\"Number of Indexed Files: {len((await search_index.index_files).keys())}\")"
   ]
  },
  {
   "cell_type": "markdown",
   "metadata": {},
   "source": [
    "# Perform Queries"
   ]
  },
  {
   "cell_type": "code",
   "execution_count": 4,
   "metadata": {},
   "outputs": [
    {
     "name": "stdout",
     "output_type": "stream",
     "text": [
      "Question: What is the role of the perivascular niche in multiple sclerosis?\n",
      "\n",
      "\n",
      "The perivascular niche plays a critical role in the pathogenesis of multiple\n",
      "sclerosis (MS) by facilitating immune cell trafficking and inflammation in the\n",
      "central nervous system (CNS). Immune cells, including T cells (CD4+ and CD8+),\n",
      "B cells, and monocytes, migrate across the blood-brain barrier (BBB) at\n",
      "post-capillary venules, entering the CNS parenchyma and contributing to\n",
      "perivascular lesion formation (Filippi2021 pages 6-7, Filippi2021 pages 8-9).\n",
      "This migration is mediated by molecules such as junctional adhesion\n",
      "molecule-like (JAML) and MUC18, which enable immune cells to cross the BBB\n",
      "(Filippi2021 pages 6-7). Additionally, immune cells may access the CNS through\n",
      "the subarachnoid space and the blood-CSF barrier (Filippi2021 pages 8-9).\n",
      "\n",
      "\n",
      "Once in the CNS, these immune cells, along with activated microglia and\n",
      "astrocytes, drive oligodendrocyte injury, demyelination, and neuro-axonal\n",
      "damage through cell contact-dependent mechanisms and the release of soluble\n",
      "factors (Filippi2021 pages 8-9). B cells, in particular, form an active immune\n",
      "axis between the CNS and periphery, with immunoglobulin class-switched B cells\n",
      "maturing in cervical lymph nodes before migrating to the CNS (Filippi2021 pages\n",
      "24-24). Furthermore, IL-1β enables CCR2hi monocytes to access the CNS, where\n",
      "they generate pathogenic cells via GM-CSF released by endothelial cells\n",
      "(Filippi2021 pages 24-24).\n",
      "\n",
      "\n",
      "The perivascular niche also contributes to the activation of CNS-specific\n",
      "effector T cells, which resist regulation by regulatory T (Treg) cells,\n",
      "exacerbating inflammation and neurodegeneration (Filippi2021 pages 6-6). These\n",
      "processes underscore the perivascular niche's central role in MS pathology,\n",
      "making it a potential target for therapeutic interventions aimed at preventing\n",
      "immune cell infiltration and lesion formation.\n",
      "\n",
      "\n",
      "References\n",
      "\n",
      "\n",
      "1. (Filippi2021 pages 6-7): Filippi, Massimo, et al. \"Multiple Sclerosis.\"\n",
      "*Nature Reviews Disease Primers*, vol. 7, no. 1, 2021, article 1. Accessed\n",
      "2024.\n",
      "\n",
      "\n",
      "2. (Filippi2021 pages 8-9): Filippi, Massimo, et al. \"Multiple Sclerosis.\"\n",
      "*Nature Reviews Disease Primers*, vol. 7, no. 1, 2021, article 1. Accessed\n",
      "2024.\n",
      "\n",
      "\n",
      "3. (Filippi2021 pages 24-24): Filippi, Massimo, et al. \"Multiple Sclerosis.\"\n",
      "*Nature Reviews Disease Primers*, vol. 7, no. 1, 2021, article 1. Accessed\n",
      "2024.\n",
      "\n",
      "\n",
      "4. (Filippi2021 pages 6-6): Filippi, Massimo, et al. \"Multiple Sclerosis.\"\n",
      "*Nature Reviews Disease Primers*, vol. 7, no. 1, 2021, article 1. Accessed\n",
      "2024.\n",
      "\n",
      "\n"
     ]
    }
   ],
   "source": [
    "answer_response = await agent_query(\n",
    "    query=\"What is the role of the perivascular niche in multiple sclerosis?\", \n",
    "    settings=settings, rebuild_index=False\n",
    ")\n",
    "pretty_print_text(answer_response.session.formatted_answer)"
   ]
  },
  {
   "cell_type": "markdown",
   "metadata": {},
   "source": [
    "# Query Previous Question & Answers"
   ]
  },
  {
   "cell_type": "code",
   "execution_count": 5,
   "metadata": {},
   "outputs": [
    {
     "name": "stdout",
     "output_type": "stream",
     "text": [
      "Number of Indexed Answers: 14\n",
      "Number of Answers Matching Query: 10\n"
     ]
    }
   ],
   "source": [
    "query_answer_index_results = await query_answer_index(settings=settings, query=\"role of perivascular niche in MS\")"
   ]
  },
  {
   "cell_type": "code",
   "execution_count": null,
   "metadata": {},
   "outputs": [],
   "source": []
  },
  {
   "cell_type": "code",
   "execution_count": null,
   "metadata": {},
   "outputs": [],
   "source": []
  },
  {
   "cell_type": "code",
   "execution_count": null,
   "metadata": {},
   "outputs": [],
   "source": []
  }
 ],
 "metadata": {
  "kernelspec": {
   "display_name": "paperqa-env",
   "language": "python",
   "name": "python3"
  },
  "language_info": {
   "codemirror_mode": {
    "name": "ipython",
    "version": 3
   },
   "file_extension": ".py",
   "mimetype": "text/x-python",
   "name": "python",
   "nbconvert_exporter": "python",
   "pygments_lexer": "ipython3",
   "version": "3.11.11"
  }
 },
 "nbformat": 4,
 "nbformat_minor": 2
}
