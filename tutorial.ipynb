{
 "cells": [
  {
   "cell_type": "code",
   "execution_count": 4,
   "metadata": {},
   "outputs": [
    {
     "name": "stdout",
     "output_type": "stream",
     "text": [
      "DEEPSEEK_API_KEY found\n",
      "OPENAI_API_KEY found\n"
     ]
    }
   ],
   "source": [
    "from pathlib import Path\n",
    "import logging\n",
    "import os\n",
    "\n",
    "from paperqa.agents.main import agent_query\n",
    "from paperqa.settings import Settings, AgentSettings, IndexSettings, AnswerSettings, ParsingSettings, PromptSettings\n",
    "\n",
    "from src.build_search_index import process_bibtex_and_pdfs, create_manifest_file, build_search_index\n",
    "from src.query_answer_index import query_answer_index\n",
    "from src.utils import pretty_print_text\n",
    "\n",
    "# configure the logging\n",
    "logging.basicConfig(\n",
    "    level=logging.WARNING,\n",
    "    format=\"%(asctime)s - %(levelname)s - %(message)s\"\n",
    ")\n",
    "\n",
    "# NOTE: these are the paths that should be configured\n",
    "export_directory_name = \"TEST_EXPORT\"\n",
    "project_dir = Path(\".\")\n",
    "\n",
    "# default paths\n",
    "data_dir = project_dir / \"data\"\n",
    "data_dir.mkdir(exist_ok=True)\n",
    "paper_directory = data_dir / export_directory_name\n",
    "index_directory = data_dir / f\"{export_directory_name}_index\"\n",
    "bibtex_file = paper_directory / f\"{export_directory_name}.bib\"\n",
    "manifest_file = data_dir / f\"{export_directory_name}_manifest.csv\"\n",
    "index_name = f\"pqa_index_{export_directory_name}\"\n",
    "\n",
    "# create manifest file from bibtex\n",
    "processed_df = process_bibtex_and_pdfs(bibtex_file=bibtex_file, paper_directory=paper_directory)\n",
    "create_manifest_file(manifest_df=processed_df, manifest_file=manifest_file)\n",
    "\n",
    "# set paperQA settings\n",
    "#default_lmm = \"deepseek/deepseek-chat\" # see https://docs.litellm.ai/docs/providers/deepseek\n",
    "default_lmm = \"gpt-4o-mini\"\n",
    "\n",
    "index_settings = IndexSettings(\n",
    "    name = index_name,\n",
    "    paper_directory = paper_directory,\n",
    "    manifest_file = manifest_file,\n",
    "    index_directory = index_directory,\n",
    "    use_absolute_paper_directory = False,\n",
    "    recurse_subdirectories = True,\n",
    "    concurrency = 1, # \"number of concurrent filesystem reads for indexing (probably not important anymore since I avoid calling S2)\"\n",
    ")\n",
    "\n",
    "agent_settings = AgentSettings(\n",
    "    agent_llm = default_lmm, # smaller than default (bc cheaper)\n",
    "    index = index_settings,\n",
    "    index_concurrency = index_settings.concurrency, \n",
    "    rebuild_index=False\n",
    ")\n",
    "\n",
    "answer_settings = AnswerSettings(\n",
    "    evidence_k = 10, # number of evidence text chunks to retrieve (default=10)\n",
    "    evidence_summary_length = \"about 100 words\", # length of evidence summary (default=\"about 100 words\")\n",
    "    answer_max_sources = 5, # max number of sources to use for answering (default=5)\n",
    "    answer_length = \"about 200 words, but can be longer\", # length of final answer (default=\"about 200 words, but can be longer\")\n",
    ")\n",
    "\n",
    "parse_settings = ParsingSettings()\n",
    "\n",
    "prompt_settings = PromptSettings()\n",
    "\n",
    "settings = Settings(\n",
    "    agent = agent_settings, \n",
    "    answer = answer_settings,\n",
    "    parsing = parse_settings,\n",
    "    prompts = prompt_settings,\n",
    "    llm=default_lmm, # smaller than default (bc cheaper)\n",
    "    summary_llm=default_lmm, # smaller than default (bc cheaper)\n",
    "    embedding=\"text-embedding-3-small\", # default\n",
    "    temperature = 0.0, # default\n",
    "    texts_index_mmr_lambda = 1.0, # Lambda MMR (default)\n",
    "    index_absolute_directory = index_settings.use_absolute_paper_directory,\n",
    "    index_directory = index_settings.index_directory,\n",
    "    index_recursively = index_settings.recurse_subdirectories,\n",
    "    manifest_file = index_settings.manifest_file,\n",
    "    paper_directory = index_settings.paper_directory,\n",
    "    verbosity = 0, # (0-3), where 3 is all LLM/Embedding calls are logged\n",
    ")\n",
    "\n",
    "# Make sure that I am using the default arguments where it matters\n",
    "#def print_non_default_settings(settings_defined, settings_classs, settings_name):\n",
    "#    print(f\"------\\n{settings_name}\")\n",
    "#    for key, value in settings_defined.__dict__.items():\n",
    "#        default_value = getattr(settings_classs(), key, None)\n",
    "#        if value != default_value:\n",
    "#            print(f\"selected: {key}: {value}\")\n",
    "#            print(f\"-> default: {key}: {default_value}\")\n",
    "\n",
    "# Print non-default settings for each object\n",
    "#print_non_default_settings(index_settings, IndexSettings, \"index_settings\")\n",
    "#print_non_default_settings(agent_settings, AgentSettings, \"agent_settings\")\n",
    "#print_non_default_settings(answer_settings, AnswerSettings, \"answer_settings\")\n",
    "#print_non_default_settings(parse_settings, ParsingSettings, \"parse_settings\")\n",
    "#print_non_default_settings(prompt_settings, PromptSettings, \"prompt_settings\")\n",
    "#print_non_default_settings(settings, Settings, \"settings\")\n",
    "\n",
    "# check API_KEYS are present\n",
    "API_KEYS = [\"DEEPSEEK_API_KEY\", \"OPENAI_API_KEY\"]\n",
    "for api_key in API_KEYS:\n",
    "    if (key := os.getenv(api_key)):\n",
    "        print(f\"{api_key} found\")"
   ]
  },
  {
   "cell_type": "markdown",
   "metadata": {},
   "source": [
    "# Build Search Index"
   ]
  },
  {
   "cell_type": "code",
   "execution_count": 5,
   "metadata": {},
   "outputs": [
    {
     "name": "stderr",
     "output_type": "stream",
     "text": [
      "2025-02-05 15:26:55,175 - WARNING - [bold red]Removing files/27985/Dual-TCR-T-Cells-Identity-Crisis-or-Multitaskers.html from index.[/bold red]\n",
      "2025-02-05 15:26:55,187 - WARNING - [bold red]Files removed![/bold red]\n"
     ]
    },
    {
     "name": "stdout",
     "output_type": "stream",
     "text": [
      "Index Name: pqa_index_TEST_EXPORT\n",
      "Number of Indexed Files: 10\n"
     ]
    }
   ],
   "source": [
    "search_index = await build_search_index(settings=settings, bibtex_file=bibtex_file, manifest_file=manifest_file)\n",
    "assert search_index.index_name == settings.agent.index.name\n",
    "print(f\"Index Name: {search_index.index_name}\")\n",
    "print(f\"Number of Indexed Files: {len((await search_index.index_files).keys())}\")"
   ]
  },
  {
   "cell_type": "markdown",
   "metadata": {},
   "source": [
    "# Perform Queries"
   ]
  },
  {
   "cell_type": "code",
   "execution_count": 6,
   "metadata": {},
   "outputs": [
    {
     "name": "stdout",
     "output_type": "stream",
     "text": [
      "Question: What is the role of the perivascular niche in multiple sclerosis?\n",
      "\n",
      "\n",
      "The perivascular niche plays a critical role in the pathophysiology of multiple\n",
      "sclerosis (MS) by facilitating immune cell infiltration into the central\n",
      "nervous system (CNS). This niche serves as a site for the entry of various\n",
      "immune cells, including pro-inflammatory CD4+ and CD8+ T cells, B cells, and\n",
      "myeloid cells, through the post-capillary venules of the blood-brain barrier\n",
      "(BBB) (Filippi2021 pages 8-9). The infiltration of these immune cells is\n",
      "associated with the early phases of MS relapses and contributes to\n",
      "neuroinflammation, oligodendrocyte injury, demyelination, and neuro-axonal\n",
      "damage (Filippi2021 pages 6-7, Filippi2021 pages 24-24).\n",
      "\n",
      "\n",
      "Additionally, the perivascular niche influences the behavior of oligodendrocyte\n",
      "precursor cells (OPCs), providing a supportive environment that is essential\n",
      "for their recruitment and differentiation (Hagemeier2012 pages 10-11). However,\n",
      "the efficiency of remyelination is often impaired in MS, highlighting the\n",
      "importance of understanding the dynamics within this niche for developing\n",
      "therapeutic strategies aimed at enhancing remyelination (Hagemeier2012 pages\n",
      "10-11). Overall, the perivascular niche is crucial for both the initiation of\n",
      "inflammatory processes and the potential for repair in MS.\n",
      "\n",
      "\n",
      "References\n",
      "\n",
      "\n",
      "1. (Filippi2021 pages 6-7): Filippi, Massimo, et al. \"Multiple Sclerosis.\"\n",
      "*Nature Reviews Disease Primers*, vol. 7, no. 1, 2021, article 1. Accessed\n",
      "2024.\n",
      "\n",
      "\n",
      "2. (Filippi2021 pages 8-9): Filippi, Massimo, et al. \"Multiple Sclerosis.\"\n",
      "*Nature Reviews Disease Primers*, vol. 7, no. 1, 2021, article 1. Accessed\n",
      "2024.\n",
      "\n",
      "\n",
      "3. (Filippi2021 pages 24-24): Filippi, Massimo, et al. \"Multiple Sclerosis.\"\n",
      "*Nature Reviews Disease Primers*, vol. 7, no. 1, 2021, article 1. Accessed\n",
      "2024.\n",
      "\n",
      "\n",
      "4. (Hagemeier2012 pages 10-11): Hagemeier, Karin, Wolfgang Brück, and Tanja\n",
      "Kuhlmann. \"Multiple Sclerosis - Remyelination Failure as a Cause of Disease\n",
      "Progression.\" *Histology and Histopathology*, vol. 27, no. 2, 2012, pp.\n",
      "277-287. *Histol Histopathol*, doi:10.14670/HH-27.277. Accessed 2024.\n",
      "\n",
      "\n"
     ]
    }
   ],
   "source": [
    "answer_response = await agent_query(\n",
    "    query=\"What is the role of the perivascular niche in multiple sclerosis?\", \n",
    "    settings=settings,\n",
    ")\n",
    "pretty_print_text(answer_response.session.formatted_answer)"
   ]
  },
  {
   "cell_type": "markdown",
   "metadata": {},
   "source": [
    "# Query Previous Question & Answers"
   ]
  },
  {
   "cell_type": "code",
   "execution_count": 5,
   "metadata": {},
   "outputs": [
    {
     "name": "stdout",
     "output_type": "stream",
     "text": [
      "Number of Indexed Answers: 16\n",
      "Number of Answers Matching Query: 10\n"
     ]
    }
   ],
   "source": [
    "query_answer_index_results = await query_answer_index(settings=settings, query=\"role of perivascular niche in MS\")"
   ]
  },
  {
   "cell_type": "code",
   "execution_count": null,
   "metadata": {},
   "outputs": [],
   "source": []
  },
  {
   "cell_type": "code",
   "execution_count": null,
   "metadata": {},
   "outputs": [],
   "source": []
  },
  {
   "cell_type": "code",
   "execution_count": null,
   "metadata": {},
   "outputs": [],
   "source": []
  }
 ],
 "metadata": {
  "kernelspec": {
   "display_name": "paperqa-env",
   "language": "python",
   "name": "python3"
  },
  "language_info": {
   "codemirror_mode": {
    "name": "ipython",
    "version": 3
   },
   "file_extension": ".py",
   "mimetype": "text/x-python",
   "name": "python",
   "nbconvert_exporter": "python",
   "pygments_lexer": "ipython3",
   "version": "3.11.0"
  }
 },
 "nbformat": 4,
 "nbformat_minor": 2
}
