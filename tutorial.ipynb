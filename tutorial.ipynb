{
 "cells": [
  {
   "cell_type": "code",
   "execution_count": 7,
   "metadata": {},
   "outputs": [
    {
     "name": "stdout",
     "output_type": "stream",
     "text": [
      "------\n",
      "index_settings\n",
      "selected: name: pqa_index_TEST_EXPORT\n",
      "-> default: name: None\n",
      "selected: paper_directory: data/TEST_EXPORT\n",
      "-> default: paper_directory: /Users/pschafer/Projects/MS_expert\n",
      "selected: manifest_file: data/TEST_EXPORT_manifest.csv\n",
      "-> default: manifest_file: None\n",
      "selected: index_directory: data/TEST_EXPORT_index\n",
      "-> default: index_directory: /Users/pschafer/.pqa/indexes\n",
      "selected: concurrency: 1\n",
      "-> default: concurrency: 5\n",
      "------\n",
      "agent_settings\n",
      "selected: agent_llm: gpt-4o-mini\n",
      "-> default: agent_llm: gpt-4o-2024-08-06\n",
      "selected: index_concurrency: 1\n",
      "-> default: index_concurrency: 5\n",
      "selected: index: name='pqa_index_TEST_EXPORT' paper_directory=PosixPath('data/TEST_EXPORT') manifest_file=PosixPath('data/TEST_EXPORT_manifest.csv') index_directory=PosixPath('data/TEST_EXPORT_index') use_absolute_paper_directory=False recurse_subdirectories=True concurrency=1 sync_with_paper_directory=True\n",
      "-> default: index: name=None paper_directory=PosixPath('/Users/pschafer/Projects/MS_expert') manifest_file=None index_directory=PosixPath('/Users/pschafer/.pqa/indexes') use_absolute_paper_directory=False recurse_subdirectories=True concurrency=5 sync_with_paper_directory=True\n",
      "------\n",
      "answer_settings\n",
      "------\n",
      "parse_settings\n",
      "------\n",
      "prompt_settings\n",
      "------\n",
      "settings\n",
      "selected: llm: gpt-4o-mini\n",
      "-> default: llm: gpt-4o-2024-08-06\n",
      "selected: summary_llm: gpt-4o-mini\n",
      "-> default: summary_llm: gpt-4o-2024-08-06\n",
      "selected: index_directory: data/TEST_EXPORT_index\n",
      "-> default: index_directory: /Users/pschafer/.pqa/indexes\n",
      "selected: manifest_file: data/TEST_EXPORT_manifest.csv\n",
      "-> default: manifest_file: None\n",
      "selected: paper_directory: data/TEST_EXPORT\n",
      "-> default: paper_directory: /Users/pschafer/Projects/MS_expert\n",
      "selected: agent: agent_llm='gpt-4o-mini' agent_llm_config=None agent_type='ToolSelector' agent_config=None agent_system_prompt='You are a helpful AI assistant.' agent_prompt='Use the tools to answer the question: {question}\\n\\nWhen the answer looks sufficient, you can terminate by calling the {complete_tool_name} tool. If the answer does not look sufficient, and you have already tried to answer several times with different evidence, terminate by calling the {complete_tool_name} tool. The current status of evidence/papers/cost is {status}' return_paper_metadata=False search_count=8 wipe_context_on_answer_failure=True agent_evidence_n=1 timeout=500.0 should_pre_search=False tool_names=None max_timesteps=None index_concurrency=1 index=IndexSettings(name='pqa_index_TEST_EXPORT', paper_directory=PosixPath('data/TEST_EXPORT'), manifest_file=PosixPath('data/TEST_EXPORT_manifest.csv'), index_directory=PosixPath('data/TEST_EXPORT_index'), use_absolute_paper_directory=False, recurse_subdirectories=True, concurrency=1, sync_with_paper_directory=True) callbacks={}\n",
      "-> default: agent: agent_llm='gpt-4o-2024-08-06' agent_llm_config=None agent_type='ToolSelector' agent_config=None agent_system_prompt='You are a helpful AI assistant.' agent_prompt='Use the tools to answer the question: {question}\\n\\nWhen the answer looks sufficient, you can terminate by calling the {complete_tool_name} tool. If the answer does not look sufficient, and you have already tried to answer several times with different evidence, terminate by calling the {complete_tool_name} tool. The current status of evidence/papers/cost is {status}' return_paper_metadata=False search_count=8 wipe_context_on_answer_failure=True agent_evidence_n=1 timeout=500.0 should_pre_search=False tool_names=None max_timesteps=None index_concurrency=5 index=IndexSettings(name=None, paper_directory=PosixPath('/Users/pschafer/Projects/MS_expert'), manifest_file=None, index_directory=PosixPath('/Users/pschafer/.pqa/indexes'), use_absolute_paper_directory=False, recurse_subdirectories=True, concurrency=5, sync_with_paper_directory=True) callbacks={}\n"
     ]
    }
   ],
   "source": [
    "from pathlib import Path\n",
    "import logging\n",
    "from datetime import datetime\n",
    "\n",
    "from paperqa.agents.main import agent_query\n",
    "from paperqa.settings import Settings, AgentSettings, IndexSettings, AnswerSettings, ParsingSettings, PromptSettings\n",
    "\n",
    "from src.build_search_index import manifest_from_bibtex, build_search_index\n",
    "from src.query_answer_index import query_answer_index\n",
    "from src.utils import pretty_print_text\n",
    "\n",
    "# configure the logging\n",
    "logging.basicConfig(\n",
    "    level=logging.WARNING,\n",
    "    format=\"%(asctime)s - %(levelname)s - %(message)s\"\n",
    ")\n",
    "# Generate a timestamp for the log file name\n",
    "timestamp = datetime.now().strftime(\"%Y-%m-%d_%H-%M-%S\")\n",
    "logging_dir = Path(\".\") / \"logs\"\n",
    "logging_dir.mkdir(exist_ok=True)\n",
    "file_handler = logging.FileHandler(str(logging_dir / f\"log_{timestamp}.log\"))  # log file name\n",
    "file_handler.setLevel(logging.INFO)  # desired log level for the file\n",
    "formatter = logging.Formatter(\"%(asctime)s - %(levelname)s - %(message)s\")\n",
    "file_handler.setFormatter(formatter)\n",
    "logging.getLogger().addHandler(file_handler)\n",
    "\n",
    "# NOTE: these are the paths that should be configured\n",
    "export_directory_name = \"TEST_EXPORT\"\n",
    "#project_dir = Path(\"/\") / \"Users\" / \"pschafer\" / \"Projects\" / \"MS_expert\"\n",
    "project_dir = Path(\".\")\n",
    "\n",
    "# default paths\n",
    "data_dir = project_dir / \"data\"\n",
    "data_dir.mkdir(exist_ok=True)\n",
    "paper_directory = data_dir / export_directory_name\n",
    "index_directory = data_dir / f\"{export_directory_name}_index\"\n",
    "bibtex_file = paper_directory / f\"{export_directory_name}.bib\"\n",
    "manifest_file = data_dir / f\"{export_directory_name}_manifest.csv\"\n",
    "index_name = f\"pqa_index_{export_directory_name}\"\n",
    "\n",
    "# create manifest file from bibtex\n",
    "manifest_from_bibtex(bibtex_file=bibtex_file, \n",
    "                     paper_directory=paper_directory, \n",
    "                     manifest_file=manifest_file)\n",
    "\n",
    "# set paperQA settings\n",
    "index_settings = IndexSettings(\n",
    "    name = index_name,\n",
    "    paper_directory = paper_directory,\n",
    "    manifest_file = manifest_file,\n",
    "    index_directory = index_directory,\n",
    "    use_absolute_paper_directory = False,\n",
    "    recurse_subdirectories = True,\n",
    "    concurrency = 1, # \"number of concurrent filesystem reads for indexing (probably not important anymore since I avoid calling S2)\"\n",
    ")\n",
    "\n",
    "agent_settings = AgentSettings(\n",
    "    agent_llm = \"gpt-4o-mini\", # smaller than default (bc cheaper)\n",
    "    index = index_settings,\n",
    "    index_concurrency = index_settings.concurrency\n",
    ")\n",
    "\n",
    "answer_settings = AnswerSettings(\n",
    "    evidence_k = 10, # number of evidence text chunks to retrieve (default=10)\n",
    "    evidence_summary_length = \"about 100 words\", # length of evidence summary (default=\"about 100 words\")\n",
    "    answer_max_sources = 5, # max number of sources to use for answering (default=5)\n",
    "    answer_length = \"about 200 words, but can be longer\", # length of final answer (default=\"about 200 words, but can be longer\")\n",
    ")\n",
    "\n",
    "parse_settings = ParsingSettings()\n",
    "\n",
    "prompt_settings = PromptSettings()\n",
    "\n",
    "settings = Settings(\n",
    "    agent = agent_settings, \n",
    "    answer = answer_settings,\n",
    "    parsing = parse_settings,\n",
    "    prompts = prompt_settings,\n",
    "    llm=\"gpt-4o-mini\", # smaller than default (bc cheaper)\n",
    "    summary_llm=\"gpt-4o-mini\", # smaller than default (bc cheaper)\n",
    "    embedding=\"text-embedding-3-small\", # default\n",
    "    temperature = 0.0, # default\n",
    "    texts_index_mmr_lambda = 1.0, # Lambda MMR (default)\n",
    "    index_absolute_directory = index_settings.use_absolute_paper_directory,\n",
    "    index_directory = index_settings.index_directory,\n",
    "    index_recursively = index_settings.recurse_subdirectories,\n",
    "    manifest_file = index_settings.manifest_file,\n",
    "    paper_directory = index_settings.paper_directory,\n",
    "    verbosity = 0, # (0-3), where 3 is all LLM/Embedding calls are logged\n",
    ")\n",
    "\n",
    "# Make sure that I am using the defautl arguments where it matters\n",
    "def print_non_default_settings(settings_defined, settings_classs, settings_name):\n",
    "    print(f\"------\\n{settings_name}\")\n",
    "    for key, value in settings_defined.__dict__.items():\n",
    "        default_value = getattr(settings_classs(), key, None)\n",
    "        if value != default_value:\n",
    "            print(f\"selected: {key}: {value}\")\n",
    "            print(f\"-> default: {key}: {default_value}\")\n",
    "\n",
    "# Print non-default settings for each object\n",
    "print_non_default_settings(index_settings, IndexSettings, \"index_settings\")\n",
    "print_non_default_settings(agent_settings, AgentSettings, \"agent_settings\")\n",
    "print_non_default_settings(answer_settings, AnswerSettings, \"answer_settings\")\n",
    "print_non_default_settings(parse_settings, ParsingSettings, \"parse_settings\")\n",
    "print_non_default_settings(prompt_settings, PromptSettings, \"prompt_settings\")\n",
    "print_non_default_settings(settings, Settings, \"settings\")"
   ]
  },
  {
   "cell_type": "markdown",
   "metadata": {},
   "source": [
    "# Build Search Index"
   ]
  },
  {
   "cell_type": "code",
   "execution_count": 4,
   "metadata": {},
   "outputs": [
    {
     "name": "stdout",
     "output_type": "stream",
     "text": [
      "Index Name: pqa_index_TEST_EXPORT\n",
      "Number of Indexed Files: 10\n"
     ]
    }
   ],
   "source": [
    "search_index = await build_search_index(settings=settings, bibtex_file=bibtex_file)\n",
    "assert search_index.index_name == settings.agent.index.name\n",
    "print(f\"Index Name: {search_index.index_name}\")\n",
    "print(f\"Number of Indexed Files: {len((await search_index.index_files).keys())}\")"
   ]
  },
  {
   "cell_type": "markdown",
   "metadata": {},
   "source": [
    "# Perform Queries"
   ]
  },
  {
   "cell_type": "code",
   "execution_count": 8,
   "metadata": {},
   "outputs": [
    {
     "name": "stdout",
     "output_type": "stream",
     "text": [
      "Question: What is a lesion in multiple sclerosis?\n",
      "\n",
      "\n",
      "In multiple sclerosis (MS), a lesion refers to areas of demyelination within\n",
      "the central nervous system (CNS) caused by the immune system's attack on\n",
      "myelin, the protective sheath surrounding nerve fibers. These lesions are a\n",
      "pathological hallmark of MS and can lead to neurological dysfunction, with\n",
      "symptoms varying based on their anatomical location, such as the optic nerve,\n",
      "spinal cord, brainstem, or cerebellum (Filippi2021 pages 1-1, Filippi2021 pages\n",
      "10-10).\n",
      "\n",
      "\n",
      "Lesions can be classified as active or inactive. Active lesions exhibit heavy\n",
      "lymphocyte infiltration and ongoing demyelination, while inactive lesions show\n",
      "reduced inflammation and are often hypocellular (Filippi2021 pages 3-4). They\n",
      "can be detected using magnetic resonance imaging (MRI), which reveals\n",
      "hypointense lesions on post-contrast T1-weighted images, known as 'black\n",
      "holes,' indicating severe tissue damage and axonal loss (Filippi2021 pages\n",
      "13-13). The presence and type of lesions correlate with the clinical\n",
      "manifestations and severity of the disease, influencing the diagnosis of\n",
      "various MS phenotypes, including relapsing-remitting and primary progressive MS\n",
      "(Filippi2021 pages 3-3, Filippi2021 pages 3-4).\n",
      "\n",
      "\n",
      "References\n",
      "\n",
      "\n",
      "1. (Filippi2021 pages 1-1): Filippi, Massimo, et al. \"Multiple Sclerosis.\"\n",
      "*Nature Reviews Disease Primers*, vol. 7, no. 1, 2021, article 1. Accessed\n",
      "2024.\n",
      "\n",
      "\n",
      "2. (Filippi2021 pages 10-10): Filippi, Massimo, et al. \"Multiple Sclerosis.\"\n",
      "*Nature Reviews Disease Primers*, vol. 7, no. 1, 2021, article 1. Accessed\n",
      "2024.\n",
      "\n",
      "\n",
      "3. (Filippi2021 pages 13-13): Filippi, Massimo, et al. \"Multiple Sclerosis.\"\n",
      "*Nature Reviews Disease Primers*, vol. 7, no. 1, 2021, article 1. Accessed\n",
      "2024.\n",
      "\n",
      "\n",
      "4. (Filippi2021 pages 3-3): Filippi, Massimo, et al. \"Multiple Sclerosis.\"\n",
      "*Nature Reviews Disease Primers*, vol. 7, no. 1, 2021, article 1. Accessed\n",
      "2024.\n",
      "\n",
      "\n",
      "5. (Filippi2021 pages 3-4): Filippi, Massimo, et al. \"Multiple Sclerosis.\"\n",
      "*Nature Reviews Disease Primers*, vol. 7, no. 1, 2021, article 1. Accessed\n",
      "2024.\n",
      "\n",
      "\n"
     ]
    }
   ],
   "source": [
    "answer_response = await agent_query(\n",
    "    query=\"What is a lesion in multiple sclerosis?\", \n",
    "    settings=settings, rebuild_index=False\n",
    ")\n",
    "pretty_print_text(answer_response.session.formatted_answer)"
   ]
  },
  {
   "cell_type": "markdown",
   "metadata": {},
   "source": [
    "# Query Previous Question & Answers"
   ]
  },
  {
   "cell_type": "code",
   "execution_count": 6,
   "metadata": {},
   "outputs": [
    {
     "name": "stdout",
     "output_type": "stream",
     "text": [
      "Number of Indexed Answers: 12\n",
      "Number of Answers Matching Query: 10\n"
     ]
    }
   ],
   "source": [
    "query_answer_index_results = await query_answer_index(settings=settings, query=\"role of perivascular niche in MS\")"
   ]
  },
  {
   "cell_type": "markdown",
   "metadata": {},
   "source": [
    "# Appendix"
   ]
  },
  {
   "cell_type": "code",
   "execution_count": null,
   "metadata": {},
   "outputs": [],
   "source": []
  },
  {
   "cell_type": "code",
   "execution_count": null,
   "metadata": {},
   "outputs": [],
   "source": []
  },
  {
   "cell_type": "code",
   "execution_count": null,
   "metadata": {},
   "outputs": [],
   "source": []
  }
 ],
 "metadata": {
  "kernelspec": {
   "display_name": "paperqa-env",
   "language": "python",
   "name": "python3"
  },
  "language_info": {
   "codemirror_mode": {
    "name": "ipython",
    "version": 3
   },
   "file_extension": ".py",
   "mimetype": "text/x-python",
   "name": "python",
   "nbconvert_exporter": "python",
   "pygments_lexer": "ipython3",
   "version": "3.11.11"
  }
 },
 "nbformat": 4,
 "nbformat_minor": 2
}
